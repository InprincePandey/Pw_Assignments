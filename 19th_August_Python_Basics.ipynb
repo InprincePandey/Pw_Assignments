{
  "nbformat": 4,
  "nbformat_minor": 0,
  "metadata": {
    "colab": {
      "provenance": []
    },
    "kernelspec": {
      "name": "python3",
      "display_name": "Python 3"
    },
    "language_info": {
      "name": "python"
    }
  },
  "cells": [
    {
      "cell_type": "code",
      "execution_count": 1,
      "metadata": {
        "colab": {
          "base_uri": "https://localhost:8080/",
          "height": 36
        },
        "id": "5CCFgYjRxWYR",
        "outputId": "8fb03fc8-68b9-4f47-957b-e9789030a5af"
      },
      "outputs": [
        {
          "output_type": "execute_result",
          "data": {
            "text/plain": [
              "' Declare two variables, `x` and `y`, and assign them integer values. Swap the\\nvalues of these variables without using any temporary variable. '"
            ],
            "application/vnd.google.colaboratory.intrinsic+json": {
              "type": "string"
            }
          },
          "metadata": {},
          "execution_count": 1
        }
      ],
      "source": [
        "''' Declare two variables, `x` and `y`, and assign them integer values. Swap the\n",
        "values of these variables without using any temporary variable. '''"
      ]
    },
    {
      "cell_type": "code",
      "source": [
        "a=int(input('enter value of a :'))\n",
        "b=int(input('enter value of b :'))\n",
        "\n",
        "a=a+b\n",
        "b=a-b\n",
        "a=a-b\n",
        "print('Swapped valueiof A and B is :',a,\" , \",b)\n"
      ],
      "metadata": {
        "colab": {
          "base_uri": "https://localhost:8080/"
        },
        "id": "bCi_n-gMxj9a",
        "outputId": "f985bff7-bbd5-4893-e9ca-15dccf71b875"
      },
      "execution_count": 14,
      "outputs": [
        {
          "output_type": "stream",
          "name": "stdout",
          "text": [
            "enter value of a :3\n",
            "enter value of b :6\n",
            "Swapped valueiof A and B is : 6  ,  3\n"
          ]
        }
      ]
    },
    {
      "cell_type": "code",
      "source": [
        "\"\"\"  Create a program that calculates the area of a rectangle. Take the length and\n",
        "width as inputs from the user and store them in variables. Calculate and\n",
        "display the area. \"\"\""
      ],
      "metadata": {
        "colab": {
          "base_uri": "https://localhost:8080/",
          "height": 36
        },
        "id": "zWzIyJfBxqfB",
        "outputId": "77a2fcba-80be-4458-dec2-4a8801dd24b6"
      },
      "execution_count": 16,
      "outputs": [
        {
          "output_type": "execute_result",
          "data": {
            "text/plain": [
              "' 2. Create a program that calculates the area of a rectangle. Take the length and\\nwidth as inputs from the user and store them in variables. Calculate and\\ndisplay the area.'"
            ],
            "application/vnd.google.colaboratory.intrinsic+json": {
              "type": "string"
            }
          },
          "metadata": {},
          "execution_count": 16
        }
      ]
    },
    {
      "cell_type": "code",
      "source": [
        "a=float(input(\"Enter Length of Rectangle:\"))\n",
        "b=float(input(\"Enter Breadth of Rectangle:\"))\n",
        "\n",
        "Area=a*b\n",
        "print(\"Area of rectangle is : \",Area)\n"
      ],
      "metadata": {
        "colab": {
          "base_uri": "https://localhost:8080/"
        },
        "id": "39FGpEzKzezn",
        "outputId": "3b3ad99b-d6e8-4a68-dddc-23315336d250"
      },
      "execution_count": 18,
      "outputs": [
        {
          "output_type": "stream",
          "name": "stdout",
          "text": [
            "Enter Length of Rectangle:2\n",
            "Enter Breadth of Rectangle:3\n",
            "Area of rectangle is :  6.0\n"
          ]
        }
      ]
    },
    {
      "cell_type": "code",
      "source": [
        "\"\"\" Write a Python program that converts temperatures from Celsius to\n",
        "Fahrenheit. Take the temperature in Celsius as input, store it in a variable,\n",
        "convert it to Fahrenheit, and display the result. \"\"\""
      ],
      "metadata": {
        "colab": {
          "base_uri": "https://localhost:8080/",
          "height": 53
        },
        "id": "CC_WjCrb0G8u",
        "outputId": "56fda156-1f0b-4f0a-d2ae-a8f18ea8a890"
      },
      "execution_count": 19,
      "outputs": [
        {
          "output_type": "execute_result",
          "data": {
            "text/plain": [
              "' Write a Python program that converts temperatures from Celsius to\\nFahrenheit. Take the temperature in Celsius as input, store it in a variable,\\nconvert it to Fahrenheit, and display the result. '"
            ],
            "application/vnd.google.colaboratory.intrinsic+json": {
              "type": "string"
            }
          },
          "metadata": {},
          "execution_count": 19
        }
      ]
    },
    {
      "cell_type": "code",
      "source": [
        "\"\"\"\n",
        "The formula to convert temperatures from Celsius to Fahrenheit is  : F=9/5(C)+32\"\"\"\n",
        "\n",
        "c=float(input(\"Enter the temp value in Celcius:\"))\n",
        "\n",
        "f=9/5*c+32\n",
        "print('the value of temp in Fahrenheit is :',f)\n",
        "\n"
      ],
      "metadata": {
        "colab": {
          "base_uri": "https://localhost:8080/"
        },
        "id": "LDYzjX2m1CVk",
        "outputId": "e9358955-c656-4c8f-a260-489ec6fd4a88"
      },
      "execution_count": 23,
      "outputs": [
        {
          "output_type": "stream",
          "name": "stdout",
          "text": [
            "Enter the temp value in Celcius:25\n",
            "the value of temp in Fahrenheit is : 77.0\n"
          ]
        }
      ]
    },
    {
      "cell_type": "code",
      "source": [
        "\"\"\"Write a Python program that takes a string as input and prints the length of\n",
        "the string. \"\"\""
      ],
      "metadata": {
        "colab": {
          "base_uri": "https://localhost:8080/",
          "height": 36
        },
        "id": "FYtLzwcZ2svF",
        "outputId": "ef538e56-23ba-4898-f7f1-a4c6a2fb5842"
      },
      "execution_count": 24,
      "outputs": [
        {
          "output_type": "execute_result",
          "data": {
            "text/plain": [
              "'Write a Python program that takes a string as input and prints the length of\\nthe string. '"
            ],
            "application/vnd.google.colaboratory.intrinsic+json": {
              "type": "string"
            }
          },
          "metadata": {},
          "execution_count": 24
        }
      ]
    },
    {
      "cell_type": "code",
      "source": [
        "\n",
        "str_input = input(\"Enter any string and I will tell you the length: \")\n",
        "str_length = len(str_input)\n",
        "print(\"The length of the entered string is:\", str_length)\n",
        "\n"
      ],
      "metadata": {
        "colab": {
          "base_uri": "https://localhost:8080/"
        },
        "id": "Vc3a7d8p9n56",
        "outputId": "317b67fe-b2d7-47e7-9be2-45ff0ff3fdfb"
      },
      "execution_count": 31,
      "outputs": [
        {
          "output_type": "stream",
          "name": "stdout",
          "text": [
            "Enter any string and I will tell you the length: my name is Prince\n",
            "The length of the entered string is: 17\n"
          ]
        }
      ]
    },
    {
      "cell_type": "code",
      "source": [
        "\"\"\" Create a program that takes a sentence from the user and counts the number\n",
        "of vowels (a, e, i, o, u) in the string.\"\"\"\n"
      ],
      "metadata": {
        "colab": {
          "base_uri": "https://localhost:8080/",
          "height": 36
        },
        "id": "rRsaxOSZ-GLH",
        "outputId": "45780c09-9f93-4d10-c0f7-d21e32207b34"
      },
      "execution_count": 32,
      "outputs": [
        {
          "output_type": "execute_result",
          "data": {
            "text/plain": [
              "' Create a program that takes a sentence from the user and counts the number\\nof vowels (a, e, i, o, u) in the string.'"
            ],
            "application/vnd.google.colaboratory.intrinsic+json": {
              "type": "string"
            }
          },
          "metadata": {},
          "execution_count": 32
        }
      ]
    },
    {
      "cell_type": "code",
      "source": [
        "usr_str=input(\"Enter your string and i will tell you No of Vovels a ,e,i,u,o \")\n",
        "Vovel_Count=usr_str.lower().count('a')+usr_str.lower().count('e')+usr_str.lower().count('i')+usr_str.lower().count('o')+usr_str.lower().count('u')\n",
        "\n",
        "# Note that using lower() is optional and is included to make the counting case-insensitive.\n",
        "\n",
        "print(\"The no of vovels in String is :\",Vovel_Count)"
      ],
      "metadata": {
        "colab": {
          "base_uri": "https://localhost:8080/"
        },
        "id": "e_HDDYf3BDt7",
        "outputId": "8469b7ff-50c9-4b76-b476-9871978a1973"
      },
      "execution_count": 44,
      "outputs": [
        {
          "output_type": "stream",
          "name": "stdout",
          "text": [
            "Enter your string and i will tell you No of Vovels a ,e,i,u,o JHHHIjjhjieou\n",
            "The no of vovels in String is : 5\n"
          ]
        }
      ]
    },
    {
      "cell_type": "code",
      "source": [
        "\"\"\" Given a string, reverse the order of characters using string slicing and print\n",
        "the reversed string.\"\"\""
      ],
      "metadata": {
        "colab": {
          "base_uri": "https://localhost:8080/",
          "height": 36
        },
        "id": "tYdyFqFzBYoZ",
        "outputId": "96c49861-1ada-4131-cc23-0a1223317c41"
      },
      "execution_count": 45,
      "outputs": [
        {
          "output_type": "execute_result",
          "data": {
            "text/plain": [
              "' Given a string, reverse the order of characters using string slicing and print\\nthe reversed string.'"
            ],
            "application/vnd.google.colaboratory.intrinsic+json": {
              "type": "string"
            }
          },
          "metadata": {},
          "execution_count": 45
        }
      ]
    },
    {
      "cell_type": "code",
      "source": [
        "a=input(\"Ente any statenment :  \")\n",
        "b=(a[::-1])\n",
        "b"
      ],
      "metadata": {
        "colab": {
          "base_uri": "https://localhost:8080/",
          "height": 53
        },
        "id": "u6CHffhiDXlH",
        "outputId": "3383a894-a52a-4b54-ddd8-670781abde1c"
      },
      "execution_count": 50,
      "outputs": [
        {
          "name": "stdout",
          "output_type": "stream",
          "text": [
            "Ente any statenment :  pw skills\n"
          ]
        },
        {
          "output_type": "execute_result",
          "data": {
            "text/plain": [
              "'slliks wp'"
            ],
            "application/vnd.google.colaboratory.intrinsic+json": {
              "type": "string"
            }
          },
          "metadata": {},
          "execution_count": 50
        }
      ]
    },
    {
      "cell_type": "code",
      "source": [
        "\"\"\"Given a string reverse the order of characters using string slicing and print\n",
        "the reversed string. \"\"\"\n"
      ],
      "metadata": {
        "colab": {
          "base_uri": "https://localhost:8080/",
          "height": 36
        },
        "id": "gncxFRq-DuqK",
        "outputId": "013a8603-162c-4b37-81a0-ff9bb34c1298"
      },
      "execution_count": 53,
      "outputs": [
        {
          "output_type": "execute_result",
          "data": {
            "text/plain": [
              "'Given a string reverse the order of characters using string slicing and print\\nthe reversed string. '"
            ],
            "application/vnd.google.colaboratory.intrinsic+json": {
              "type": "string"
            }
          },
          "metadata": {},
          "execution_count": 53
        }
      ]
    },
    {
      "cell_type": "code",
      "source": [
        "a=input(\"enter string :\").lower()\n",
        "b=a[::-1]\n",
        "print(\"the entered value is OfA is :\",a)\n",
        "print(\"the Reversed  value is OfA is :\",b)\n",
        "\n",
        "\n",
        "if a==b:\n",
        "  print(a,\"is a Palindrome\")\n",
        "else:\n",
        "    print(a,\" is not a palindrome\")"
      ],
      "metadata": {
        "colab": {
          "base_uri": "https://localhost:8080/"
        },
        "id": "qzpk607WE13d",
        "outputId": "ebffb07e-a2aa-4c03-b169-f552c57af143"
      },
      "execution_count": 78,
      "outputs": [
        {
          "output_type": "stream",
          "name": "stdout",
          "text": [
            "enter string :MOom\n",
            "the entered value is OfA is : moom\n",
            "the Reversed  value is OfA is : moom\n",
            "moom is a Palindrome\n"
          ]
        }
      ]
    },
    {
      "cell_type": "code",
      "source": [
        "\"\"\"Create a program that takes a string as input and removes all the spaces from\n",
        "it. Print the modified string without spaces.\"\"\""
      ],
      "metadata": {
        "colab": {
          "base_uri": "https://localhost:8080/",
          "height": 36
        },
        "id": "wxuZ00bVG2pC",
        "outputId": "4a3302e5-07fb-487a-adc6-79562786bded"
      },
      "execution_count": 79,
      "outputs": [
        {
          "output_type": "execute_result",
          "data": {
            "text/plain": [
              "'Create a program that takes a string as input and removes all the spaces from\\nit. Print the modified string without spaces.'"
            ],
            "application/vnd.google.colaboratory.intrinsic+json": {
              "type": "string"
            }
          },
          "metadata": {},
          "execution_count": 79
        }
      ]
    },
    {
      "cell_type": "code",
      "source": [
        "original_string = input()\n",
        "no_spaces_string = original_string.replace(\" \", \"\")\n",
        "print(no_spaces_string)\n",
        "\n"
      ],
      "metadata": {
        "colab": {
          "base_uri": "https://localhost:8080/"
        },
        "id": "UpkShB1hN8Ev",
        "outputId": "7299db1c-b33c-444d-fa3f-19dff61a367f"
      },
      "execution_count": 80,
      "outputs": [
        {
          "output_type": "stream",
          "name": "stdout",
          "text": [
            "I have joined Pw skills recently 15 days back\n",
            "IhavejoinedPwskillsrecently15daysback\n"
          ]
        }
      ]
    },
    {
      "cell_type": "code",
      "source": [],
      "metadata": {
        "id": "7mQayYKuOII0"
      },
      "execution_count": null,
      "outputs": []
    }
  ]
}